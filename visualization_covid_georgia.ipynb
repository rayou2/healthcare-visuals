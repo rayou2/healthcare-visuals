{
  "nbformat": 4,
  "nbformat_minor": 0,
  "metadata": {
    "colab": {
      "provenance": [],
      "toc_visible": true,
      "authorship_tag": "ABX9TyMvVLvLnFGnerpLwr2beazH",
      "include_colab_link": true
    },
    "kernelspec": {
      "name": "python3",
      "display_name": "Python 3"
    },
    "language_info": {
      "name": "python"
    }
  },
  "cells": [
    {
      "cell_type": "markdown",
      "metadata": {
        "id": "view-in-github",
        "colab_type": "text"
      },
      "source": [
        "<a href=\"https://colab.research.google.com/github/rayou2/healthcare-visuals/blob/main/visualization_covid_georgia.ipynb\" target=\"_parent\"><img src=\"https://colab.research.google.com/assets/colab-badge.svg\" alt=\"Open In Colab\"/></a>"
      ]
    },
    {
      "cell_type": "markdown",
      "source": [
        "# Step 1: Loading in Packages "
      ],
      "metadata": {
        "id": "DImYzWdHbB-q"
      }
    },
    {
      "cell_type": "code",
      "source": [
        "# the below packages are related to loading and performing basci \n",
        "# transformations of the data\n",
        "\n",
        "import pandas as pd\n",
        "import numpy as np\n",
        "\n",
        "print('cell successfully ran')"
      ],
      "metadata": {
        "colab": {
          "base_uri": "https://localhost:8080/"
        },
        "id": "qcceLIi5bYwj",
        "outputId": "8c1ac1bf-3c4f-4997-828d-ffb34f72bddf"
      },
      "execution_count": 50,
      "outputs": [
        {
          "output_type": "stream",
          "name": "stdout",
          "text": [
            "cell successfully ran\n"
          ]
        }
      ]
    },
    {
      "cell_type": "code",
      "source": [
        "# now we are going to load in some visualization packages to help with create\n",
        "# visuals of the data \n",
        "\n",
        "import seaborn as sns\n",
        "import matplotlib.pyplot as plt\n",
        "import plotly.express as px\n",
        "\n",
        "sns.set_theme(style=\"whitegrid\")\n",
        "\n",
        "print('cell successfully ran')"
      ],
      "metadata": {
        "colab": {
          "base_uri": "https://localhost:8080/"
        },
        "id": "-9iUOeUZcVrl",
        "outputId": "32fad50b-ab6b-484d-dada-29038844c25c"
      },
      "execution_count": 51,
      "outputs": [
        {
          "output_type": "stream",
          "name": "stdout",
          "text": [
            "cell successfully ran\n"
          ]
        }
      ]
    },
    {
      "cell_type": "markdown",
      "source": [
        "# Loading in Data"
      ],
      "metadata": {
        "id": "t9AEHb2ifJvI"
      }
    },
    {
      "cell_type": "code",
      "source": [
        "df = pd.read_csv('https://raw.githubusercontent.com/hantswilliams/AHI_Microcourse_Visualization/main/Data/Georgia_COVID/Georgia_COVID-19_Case_Data.csv')"
      ],
      "metadata": {
        "id": "xGdUR8LsfOzP"
      },
      "execution_count": 52,
      "outputs": []
    },
    {
      "cell_type": "code",
      "source": [
        "df"
      ],
      "metadata": {
        "id": "bbFz2fjZgMYu",
        "colab": {
          "base_uri": "https://localhost:8080/",
          "height": 993
        },
        "outputId": "138dacc5-5401-4f79-9c61-4f4543756c97"
      },
      "execution_count": 53,
      "outputs": [
        {
          "output_type": "execute_result",
          "data": {
            "text/plain": [
              "       OBJECTID   COUNTY  CNTY_FIPS               DATESTAMP  C_New  C_Cum  \\\n",
              "0             1  BALDWIN       1003  2021/04/13 03:59:59+00      4   3795   \n",
              "1             2  UNKNOWN          1  2021/02/04 05:00:00+00      4   2158   \n",
              "2             3  BALDWIN       1003  2021/04/14 03:59:59+00      2   3797   \n",
              "3             4  UNKNOWN          1  2021/02/05 05:00:00+00      1   2159   \n",
              "4             5  BALDWIN       1003  2021/04/15 03:59:59+00      0   3797   \n",
              "...         ...      ...        ...                     ...    ...    ...   \n",
              "91687     91688    WAYNE      49055  2021/07/15 03:59:59+00      0   2809   \n",
              "91688     91689    WAYNE      49055  2021/07/16 03:59:59+00      0   2809   \n",
              "91689     91690    WAYNE      49055  2021/07/17 03:59:59+00      0   2809   \n",
              "91690     91691    WAYNE      49055  2021/07/18 03:59:59+00      0   2809   \n",
              "91691     91692    WAYNE      49055  2021/07/19 03:59:59+00      0   2809   \n",
              "\n",
              "       D_New  D_Cum  H_New  H_Cum  ...  C_His  C_NonHis  C_EthUnk  \\\n",
              "0          0    115      0    318  ...    106      2897       792   \n",
              "1          0      4      0     36  ...     80       155      1923   \n",
              "2          0    115      0    318  ...    106      2898       793   \n",
              "3          0      4      0     36  ...     80       156      1923   \n",
              "4          0    115      0    318  ...    106      2898       793   \n",
              "...      ...    ...    ...    ...  ...    ...       ...       ...   \n",
              "91687      0     81      0    281  ...    108      2070       631   \n",
              "91688      0     81      0    281  ...    108      2070       631   \n",
              "91689      0     81      0    281  ...    108      2070       631   \n",
              "91690      0     81      0    281  ...    108      2070       631   \n",
              "91691      0     81      0    281  ...    108      2070       631   \n",
              "\n",
              "                                     GlobalID  C_NEW_PERCT_CHG  \\\n",
              "0      {6D1CBB20-5FCF-4FA3-9112-504CF3A93EE8}              NaN   \n",
              "1      {925F3292-9C8D-420F-9FE5-97E82BC7F8E8}        -0.428571   \n",
              "2      {1F195651-C20F-4B60-98B0-D0481D40F263}              NaN   \n",
              "3      {C614DA89-4EAB-4807-9FDE-7661AEFCC144}              NaN   \n",
              "4      {EBFFE6DD-9C7F-44F1-B19A-AC69E6EB4093}              NaN   \n",
              "...                                       ...              ...   \n",
              "91687  {D678A5A4-8531-4A06-B71A-A757A4933957}              NaN   \n",
              "91688  {6F4E3A27-D6A2-422F-B7CA-16595DA36061}              NaN   \n",
              "91689  {CE952CC5-B75F-45E7-BC12-954B1EE71F31}              NaN   \n",
              "91690  {D07AF78B-C535-4F99-8E04-AED183809453}              NaN   \n",
              "91691  {42B36DB7-6C0D-4A0D-AE78-E269A191E20E}              NaN   \n",
              "\n",
              "       D_NEW_PERCT_CHG  C_NEW_7D_MEAN  D_NEW_7D_MEAN  C_NEW_7D_PERCT_CHG  \\\n",
              "0                  NaN       1.857143            0.0                 NaN   \n",
              "1                  NaN       2.714286            0.0                 NaN   \n",
              "2                  NaN       1.857143            0.0                 NaN   \n",
              "3                  NaN       2.857143            0.0                 NaN   \n",
              "4                  NaN       1.857143            0.0                 NaN   \n",
              "...                ...            ...            ...                 ...   \n",
              "91687              NaN       0.142857            0.0                 NaN   \n",
              "91688              NaN       0.000000            0.0                 NaN   \n",
              "91689              NaN       0.000000            0.0                 NaN   \n",
              "91690              NaN       0.000000            0.0                 NaN   \n",
              "91691              NaN       0.000000            0.0                 NaN   \n",
              "\n",
              "       D_NEW_7D_PERCT_CHG  \n",
              "0                     NaN  \n",
              "1                     NaN  \n",
              "2                     NaN  \n",
              "3                     NaN  \n",
              "4                     NaN  \n",
              "...                   ...  \n",
              "91687                 NaN  \n",
              "91688                 NaN  \n",
              "91689                 NaN  \n",
              "91690                 NaN  \n",
              "91691                 NaN  \n",
              "\n",
              "[91692 rows x 45 columns]"
            ],
            "text/html": [
              "\n",
              "  <div id=\"df-de3ccbc7-f096-4b8e-9b73-bc99a6d80150\">\n",
              "    <div class=\"colab-df-container\">\n",
              "      <div>\n",
              "<style scoped>\n",
              "    .dataframe tbody tr th:only-of-type {\n",
              "        vertical-align: middle;\n",
              "    }\n",
              "\n",
              "    .dataframe tbody tr th {\n",
              "        vertical-align: top;\n",
              "    }\n",
              "\n",
              "    .dataframe thead th {\n",
              "        text-align: right;\n",
              "    }\n",
              "</style>\n",
              "<table border=\"1\" class=\"dataframe\">\n",
              "  <thead>\n",
              "    <tr style=\"text-align: right;\">\n",
              "      <th></th>\n",
              "      <th>OBJECTID</th>\n",
              "      <th>COUNTY</th>\n",
              "      <th>CNTY_FIPS</th>\n",
              "      <th>DATESTAMP</th>\n",
              "      <th>C_New</th>\n",
              "      <th>C_Cum</th>\n",
              "      <th>D_New</th>\n",
              "      <th>D_Cum</th>\n",
              "      <th>H_New</th>\n",
              "      <th>H_Cum</th>\n",
              "      <th>...</th>\n",
              "      <th>C_His</th>\n",
              "      <th>C_NonHis</th>\n",
              "      <th>C_EthUnk</th>\n",
              "      <th>GlobalID</th>\n",
              "      <th>C_NEW_PERCT_CHG</th>\n",
              "      <th>D_NEW_PERCT_CHG</th>\n",
              "      <th>C_NEW_7D_MEAN</th>\n",
              "      <th>D_NEW_7D_MEAN</th>\n",
              "      <th>C_NEW_7D_PERCT_CHG</th>\n",
              "      <th>D_NEW_7D_PERCT_CHG</th>\n",
              "    </tr>\n",
              "  </thead>\n",
              "  <tbody>\n",
              "    <tr>\n",
              "      <th>0</th>\n",
              "      <td>1</td>\n",
              "      <td>BALDWIN</td>\n",
              "      <td>1003</td>\n",
              "      <td>2021/04/13 03:59:59+00</td>\n",
              "      <td>4</td>\n",
              "      <td>3795</td>\n",
              "      <td>0</td>\n",
              "      <td>115</td>\n",
              "      <td>0</td>\n",
              "      <td>318</td>\n",
              "      <td>...</td>\n",
              "      <td>106</td>\n",
              "      <td>2897</td>\n",
              "      <td>792</td>\n",
              "      <td>{6D1CBB20-5FCF-4FA3-9112-504CF3A93EE8}</td>\n",
              "      <td>NaN</td>\n",
              "      <td>NaN</td>\n",
              "      <td>1.857143</td>\n",
              "      <td>0.0</td>\n",
              "      <td>NaN</td>\n",
              "      <td>NaN</td>\n",
              "    </tr>\n",
              "    <tr>\n",
              "      <th>1</th>\n",
              "      <td>2</td>\n",
              "      <td>UNKNOWN</td>\n",
              "      <td>1</td>\n",
              "      <td>2021/02/04 05:00:00+00</td>\n",
              "      <td>4</td>\n",
              "      <td>2158</td>\n",
              "      <td>0</td>\n",
              "      <td>4</td>\n",
              "      <td>0</td>\n",
              "      <td>36</td>\n",
              "      <td>...</td>\n",
              "      <td>80</td>\n",
              "      <td>155</td>\n",
              "      <td>1923</td>\n",
              "      <td>{925F3292-9C8D-420F-9FE5-97E82BC7F8E8}</td>\n",
              "      <td>-0.428571</td>\n",
              "      <td>NaN</td>\n",
              "      <td>2.714286</td>\n",
              "      <td>0.0</td>\n",
              "      <td>NaN</td>\n",
              "      <td>NaN</td>\n",
              "    </tr>\n",
              "    <tr>\n",
              "      <th>2</th>\n",
              "      <td>3</td>\n",
              "      <td>BALDWIN</td>\n",
              "      <td>1003</td>\n",
              "      <td>2021/04/14 03:59:59+00</td>\n",
              "      <td>2</td>\n",
              "      <td>3797</td>\n",
              "      <td>0</td>\n",
              "      <td>115</td>\n",
              "      <td>0</td>\n",
              "      <td>318</td>\n",
              "      <td>...</td>\n",
              "      <td>106</td>\n",
              "      <td>2898</td>\n",
              "      <td>793</td>\n",
              "      <td>{1F195651-C20F-4B60-98B0-D0481D40F263}</td>\n",
              "      <td>NaN</td>\n",
              "      <td>NaN</td>\n",
              "      <td>1.857143</td>\n",
              "      <td>0.0</td>\n",
              "      <td>NaN</td>\n",
              "      <td>NaN</td>\n",
              "    </tr>\n",
              "    <tr>\n",
              "      <th>3</th>\n",
              "      <td>4</td>\n",
              "      <td>UNKNOWN</td>\n",
              "      <td>1</td>\n",
              "      <td>2021/02/05 05:00:00+00</td>\n",
              "      <td>1</td>\n",
              "      <td>2159</td>\n",
              "      <td>0</td>\n",
              "      <td>4</td>\n",
              "      <td>0</td>\n",
              "      <td>36</td>\n",
              "      <td>...</td>\n",
              "      <td>80</td>\n",
              "      <td>156</td>\n",
              "      <td>1923</td>\n",
              "      <td>{C614DA89-4EAB-4807-9FDE-7661AEFCC144}</td>\n",
              "      <td>NaN</td>\n",
              "      <td>NaN</td>\n",
              "      <td>2.857143</td>\n",
              "      <td>0.0</td>\n",
              "      <td>NaN</td>\n",
              "      <td>NaN</td>\n",
              "    </tr>\n",
              "    <tr>\n",
              "      <th>4</th>\n",
              "      <td>5</td>\n",
              "      <td>BALDWIN</td>\n",
              "      <td>1003</td>\n",
              "      <td>2021/04/15 03:59:59+00</td>\n",
              "      <td>0</td>\n",
              "      <td>3797</td>\n",
              "      <td>0</td>\n",
              "      <td>115</td>\n",
              "      <td>0</td>\n",
              "      <td>318</td>\n",
              "      <td>...</td>\n",
              "      <td>106</td>\n",
              "      <td>2898</td>\n",
              "      <td>793</td>\n",
              "      <td>{EBFFE6DD-9C7F-44F1-B19A-AC69E6EB4093}</td>\n",
              "      <td>NaN</td>\n",
              "      <td>NaN</td>\n",
              "      <td>1.857143</td>\n",
              "      <td>0.0</td>\n",
              "      <td>NaN</td>\n",
              "      <td>NaN</td>\n",
              "    </tr>\n",
              "    <tr>\n",
              "      <th>...</th>\n",
              "      <td>...</td>\n",
              "      <td>...</td>\n",
              "      <td>...</td>\n",
              "      <td>...</td>\n",
              "      <td>...</td>\n",
              "      <td>...</td>\n",
              "      <td>...</td>\n",
              "      <td>...</td>\n",
              "      <td>...</td>\n",
              "      <td>...</td>\n",
              "      <td>...</td>\n",
              "      <td>...</td>\n",
              "      <td>...</td>\n",
              "      <td>...</td>\n",
              "      <td>...</td>\n",
              "      <td>...</td>\n",
              "      <td>...</td>\n",
              "      <td>...</td>\n",
              "      <td>...</td>\n",
              "      <td>...</td>\n",
              "      <td>...</td>\n",
              "    </tr>\n",
              "    <tr>\n",
              "      <th>91687</th>\n",
              "      <td>91688</td>\n",
              "      <td>WAYNE</td>\n",
              "      <td>49055</td>\n",
              "      <td>2021/07/15 03:59:59+00</td>\n",
              "      <td>0</td>\n",
              "      <td>2809</td>\n",
              "      <td>0</td>\n",
              "      <td>81</td>\n",
              "      <td>0</td>\n",
              "      <td>281</td>\n",
              "      <td>...</td>\n",
              "      <td>108</td>\n",
              "      <td>2070</td>\n",
              "      <td>631</td>\n",
              "      <td>{D678A5A4-8531-4A06-B71A-A757A4933957}</td>\n",
              "      <td>NaN</td>\n",
              "      <td>NaN</td>\n",
              "      <td>0.142857</td>\n",
              "      <td>0.0</td>\n",
              "      <td>NaN</td>\n",
              "      <td>NaN</td>\n",
              "    </tr>\n",
              "    <tr>\n",
              "      <th>91688</th>\n",
              "      <td>91689</td>\n",
              "      <td>WAYNE</td>\n",
              "      <td>49055</td>\n",
              "      <td>2021/07/16 03:59:59+00</td>\n",
              "      <td>0</td>\n",
              "      <td>2809</td>\n",
              "      <td>0</td>\n",
              "      <td>81</td>\n",
              "      <td>0</td>\n",
              "      <td>281</td>\n",
              "      <td>...</td>\n",
              "      <td>108</td>\n",
              "      <td>2070</td>\n",
              "      <td>631</td>\n",
              "      <td>{6F4E3A27-D6A2-422F-B7CA-16595DA36061}</td>\n",
              "      <td>NaN</td>\n",
              "      <td>NaN</td>\n",
              "      <td>0.000000</td>\n",
              "      <td>0.0</td>\n",
              "      <td>NaN</td>\n",
              "      <td>NaN</td>\n",
              "    </tr>\n",
              "    <tr>\n",
              "      <th>91689</th>\n",
              "      <td>91690</td>\n",
              "      <td>WAYNE</td>\n",
              "      <td>49055</td>\n",
              "      <td>2021/07/17 03:59:59+00</td>\n",
              "      <td>0</td>\n",
              "      <td>2809</td>\n",
              "      <td>0</td>\n",
              "      <td>81</td>\n",
              "      <td>0</td>\n",
              "      <td>281</td>\n",
              "      <td>...</td>\n",
              "      <td>108</td>\n",
              "      <td>2070</td>\n",
              "      <td>631</td>\n",
              "      <td>{CE952CC5-B75F-45E7-BC12-954B1EE71F31}</td>\n",
              "      <td>NaN</td>\n",
              "      <td>NaN</td>\n",
              "      <td>0.000000</td>\n",
              "      <td>0.0</td>\n",
              "      <td>NaN</td>\n",
              "      <td>NaN</td>\n",
              "    </tr>\n",
              "    <tr>\n",
              "      <th>91690</th>\n",
              "      <td>91691</td>\n",
              "      <td>WAYNE</td>\n",
              "      <td>49055</td>\n",
              "      <td>2021/07/18 03:59:59+00</td>\n",
              "      <td>0</td>\n",
              "      <td>2809</td>\n",
              "      <td>0</td>\n",
              "      <td>81</td>\n",
              "      <td>0</td>\n",
              "      <td>281</td>\n",
              "      <td>...</td>\n",
              "      <td>108</td>\n",
              "      <td>2070</td>\n",
              "      <td>631</td>\n",
              "      <td>{D07AF78B-C535-4F99-8E04-AED183809453}</td>\n",
              "      <td>NaN</td>\n",
              "      <td>NaN</td>\n",
              "      <td>0.000000</td>\n",
              "      <td>0.0</td>\n",
              "      <td>NaN</td>\n",
              "      <td>NaN</td>\n",
              "    </tr>\n",
              "    <tr>\n",
              "      <th>91691</th>\n",
              "      <td>91692</td>\n",
              "      <td>WAYNE</td>\n",
              "      <td>49055</td>\n",
              "      <td>2021/07/19 03:59:59+00</td>\n",
              "      <td>0</td>\n",
              "      <td>2809</td>\n",
              "      <td>0</td>\n",
              "      <td>81</td>\n",
              "      <td>0</td>\n",
              "      <td>281</td>\n",
              "      <td>...</td>\n",
              "      <td>108</td>\n",
              "      <td>2070</td>\n",
              "      <td>631</td>\n",
              "      <td>{42B36DB7-6C0D-4A0D-AE78-E269A191E20E}</td>\n",
              "      <td>NaN</td>\n",
              "      <td>NaN</td>\n",
              "      <td>0.000000</td>\n",
              "      <td>0.0</td>\n",
              "      <td>NaN</td>\n",
              "      <td>NaN</td>\n",
              "    </tr>\n",
              "  </tbody>\n",
              "</table>\n",
              "<p>91692 rows × 45 columns</p>\n",
              "</div>\n",
              "      <button class=\"colab-df-convert\" onclick=\"convertToInteractive('df-de3ccbc7-f096-4b8e-9b73-bc99a6d80150')\"\n",
              "              title=\"Convert this dataframe to an interactive table.\"\n",
              "              style=\"display:none;\">\n",
              "        \n",
              "  <svg xmlns=\"http://www.w3.org/2000/svg\" height=\"24px\"viewBox=\"0 0 24 24\"\n",
              "       width=\"24px\">\n",
              "    <path d=\"M0 0h24v24H0V0z\" fill=\"none\"/>\n",
              "    <path d=\"M18.56 5.44l.94 2.06.94-2.06 2.06-.94-2.06-.94-.94-2.06-.94 2.06-2.06.94zm-11 1L8.5 8.5l.94-2.06 2.06-.94-2.06-.94L8.5 2.5l-.94 2.06-2.06.94zm10 10l.94 2.06.94-2.06 2.06-.94-2.06-.94-.94-2.06-.94 2.06-2.06.94z\"/><path d=\"M17.41 7.96l-1.37-1.37c-.4-.4-.92-.59-1.43-.59-.52 0-1.04.2-1.43.59L10.3 9.45l-7.72 7.72c-.78.78-.78 2.05 0 2.83L4 21.41c.39.39.9.59 1.41.59.51 0 1.02-.2 1.41-.59l7.78-7.78 2.81-2.81c.8-.78.8-2.07 0-2.86zM5.41 20L4 18.59l7.72-7.72 1.47 1.35L5.41 20z\"/>\n",
              "  </svg>\n",
              "      </button>\n",
              "      \n",
              "  <style>\n",
              "    .colab-df-container {\n",
              "      display:flex;\n",
              "      flex-wrap:wrap;\n",
              "      gap: 12px;\n",
              "    }\n",
              "\n",
              "    .colab-df-convert {\n",
              "      background-color: #E8F0FE;\n",
              "      border: none;\n",
              "      border-radius: 50%;\n",
              "      cursor: pointer;\n",
              "      display: none;\n",
              "      fill: #1967D2;\n",
              "      height: 32px;\n",
              "      padding: 0 0 0 0;\n",
              "      width: 32px;\n",
              "    }\n",
              "\n",
              "    .colab-df-convert:hover {\n",
              "      background-color: #E2EBFA;\n",
              "      box-shadow: 0px 1px 2px rgba(60, 64, 67, 0.3), 0px 1px 3px 1px rgba(60, 64, 67, 0.15);\n",
              "      fill: #174EA6;\n",
              "    }\n",
              "\n",
              "    [theme=dark] .colab-df-convert {\n",
              "      background-color: #3B4455;\n",
              "      fill: #D2E3FC;\n",
              "    }\n",
              "\n",
              "    [theme=dark] .colab-df-convert:hover {\n",
              "      background-color: #434B5C;\n",
              "      box-shadow: 0px 1px 3px 1px rgba(0, 0, 0, 0.15);\n",
              "      filter: drop-shadow(0px 1px 2px rgba(0, 0, 0, 0.3));\n",
              "      fill: #FFFFFF;\n",
              "    }\n",
              "  </style>\n",
              "\n",
              "      <script>\n",
              "        const buttonEl =\n",
              "          document.querySelector('#df-de3ccbc7-f096-4b8e-9b73-bc99a6d80150 button.colab-df-convert');\n",
              "        buttonEl.style.display =\n",
              "          google.colab.kernel.accessAllowed ? 'block' : 'none';\n",
              "\n",
              "        async function convertToInteractive(key) {\n",
              "          const element = document.querySelector('#df-de3ccbc7-f096-4b8e-9b73-bc99a6d80150');\n",
              "          const dataTable =\n",
              "            await google.colab.kernel.invokeFunction('convertToInteractive',\n",
              "                                                     [key], {});\n",
              "          if (!dataTable) return;\n",
              "\n",
              "          const docLinkHtml = 'Like what you see? Visit the ' +\n",
              "            '<a target=\"_blank\" href=https://colab.research.google.com/notebooks/data_table.ipynb>data table notebook</a>'\n",
              "            + ' to learn more about interactive tables.';\n",
              "          element.innerHTML = '';\n",
              "          dataTable['output_type'] = 'display_data';\n",
              "          await google.colab.output.renderOutput(dataTable, element);\n",
              "          const docLink = document.createElement('div');\n",
              "          docLink.innerHTML = docLinkHtml;\n",
              "          element.appendChild(docLink);\n",
              "        }\n",
              "      </script>\n",
              "    </div>\n",
              "  </div>\n",
              "  "
            ]
          },
          "metadata": {},
          "execution_count": 53
        }
      ]
    },
    {
      "cell_type": "code",
      "source": [
        "len(df)"
      ],
      "metadata": {
        "id": "adWidNHwg8Fm",
        "colab": {
          "base_uri": "https://localhost:8080/"
        },
        "outputId": "36ca6fa4-521c-4130-bcf9-9ff38b0e6db8"
      },
      "execution_count": 54,
      "outputs": [
        {
          "output_type": "execute_result",
          "data": {
            "text/plain": [
              "91692"
            ]
          },
          "metadata": {},
          "execution_count": 54
        }
      ]
    },
    {
      "cell_type": "code",
      "source": [
        "df.shape"
      ],
      "metadata": {
        "colab": {
          "base_uri": "https://localhost:8080/"
        },
        "id": "QtaYw_YJEOB0",
        "outputId": "b9076a61-e8c2-4d87-c323-cb7bfbcc3ac2"
      },
      "execution_count": 55,
      "outputs": [
        {
          "output_type": "execute_result",
          "data": {
            "text/plain": [
              "(91692, 45)"
            ]
          },
          "metadata": {},
          "execution_count": 55
        }
      ]
    },
    {
      "cell_type": "markdown",
      "source": [
        "### Describing the variables "
      ],
      "metadata": {
        "id": "wvemg16eEXnS"
      }
    },
    {
      "cell_type": "code",
      "source": [
        "df.info()"
      ],
      "metadata": {
        "colab": {
          "base_uri": "https://localhost:8080/"
        },
        "id": "yQEKXLKWEeNm",
        "outputId": "9d2f23cb-f221-4145-b843-c285c498f285"
      },
      "execution_count": 56,
      "outputs": [
        {
          "output_type": "stream",
          "name": "stdout",
          "text": [
            "<class 'pandas.core.frame.DataFrame'>\n",
            "RangeIndex: 91692 entries, 0 to 91691\n",
            "Data columns (total 45 columns):\n",
            " #   Column              Non-Null Count  Dtype  \n",
            "---  ------              --------------  -----  \n",
            " 0   OBJECTID            91692 non-null  int64  \n",
            " 1   COUNTY              91692 non-null  object \n",
            " 2   CNTY_FIPS           91692 non-null  int64  \n",
            " 3   DATESTAMP           91692 non-null  object \n",
            " 4   C_New               91692 non-null  int64  \n",
            " 5   C_Cum               91692 non-null  int64  \n",
            " 6   D_New               91692 non-null  int64  \n",
            " 7   D_Cum               91692 non-null  int64  \n",
            " 8   H_New               91692 non-null  int64  \n",
            " 9   H_Cum               91692 non-null  int64  \n",
            " 10  C_Rate              91692 non-null  int64  \n",
            " 11  C_Female            91692 non-null  int64  \n",
            " 12  C_Male              91692 non-null  int64  \n",
            " 13  C_SexUnkn           91692 non-null  int64  \n",
            " 14  C_UCon_Yes          91692 non-null  int64  \n",
            " 15  C_UCon_No           91692 non-null  int64  \n",
            " 16  C_UCon_Unk          91692 non-null  int64  \n",
            " 17  C_Age_0_4           91692 non-null  int64  \n",
            " 18  C_Age_5_14          91692 non-null  int64  \n",
            " 19  C_Age_15_24         91692 non-null  int64  \n",
            " 20  C_Age_25_34         91692 non-null  int64  \n",
            " 21  C_Age_35_44         91692 non-null  int64  \n",
            " 22  C_Age_45_54         91692 non-null  int64  \n",
            " 23  C_Age_55_64         91692 non-null  int64  \n",
            " 24  C_Age_65_74         91692 non-null  int64  \n",
            " 25  C_Age_75_84         91692 non-null  int64  \n",
            " 26  C_Age_85plus        91692 non-null  int64  \n",
            " 27  C_Age_Unkn          91692 non-null  int64  \n",
            " 28  C_Age_0             91692 non-null  int64  \n",
            " 29  C_Age_20            91692 non-null  int64  \n",
            " 30  C_RaceWh            91692 non-null  int64  \n",
            " 31  C_RaceBl            91692 non-null  int64  \n",
            " 32  C_RaceAs            91692 non-null  int64  \n",
            " 33  C_RaceOth           91692 non-null  int64  \n",
            " 34  C_RaceUnk           91692 non-null  int64  \n",
            " 35  C_His               91692 non-null  int64  \n",
            " 36  C_NonHis            91692 non-null  int64  \n",
            " 37  C_EthUnk            91692 non-null  int64  \n",
            " 38  GlobalID            91692 non-null  object \n",
            " 39  C_NEW_PERCT_CHG     31895 non-null  float64\n",
            " 40  D_NEW_PERCT_CHG     1149 non-null   float64\n",
            " 41  C_NEW_7D_MEAN       91692 non-null  float64\n",
            " 42  D_NEW_7D_MEAN       91692 non-null  float64\n",
            " 43  C_NEW_7D_PERCT_CHG  36111 non-null  float64\n",
            " 44  D_NEW_7D_PERCT_CHG  1276 non-null   float64\n",
            "dtypes: float64(6), int64(36), object(3)\n",
            "memory usage: 31.5+ MB\n"
          ]
        }
      ]
    },
    {
      "cell_type": "code",
      "source": [
        "list(df)"
      ],
      "metadata": {
        "colab": {
          "base_uri": "https://localhost:8080/"
        },
        "id": "UCz9GXWxLzJV",
        "outputId": "8e0829fb-984f-442f-bb5c-3a8910f1026a"
      },
      "execution_count": 57,
      "outputs": [
        {
          "output_type": "execute_result",
          "data": {
            "text/plain": [
              "['OBJECTID',\n",
              " 'COUNTY',\n",
              " 'CNTY_FIPS',\n",
              " 'DATESTAMP',\n",
              " 'C_New',\n",
              " 'C_Cum',\n",
              " 'D_New',\n",
              " 'D_Cum',\n",
              " 'H_New',\n",
              " 'H_Cum',\n",
              " 'C_Rate',\n",
              " 'C_Female',\n",
              " 'C_Male',\n",
              " 'C_SexUnkn',\n",
              " 'C_UCon_Yes',\n",
              " 'C_UCon_No',\n",
              " 'C_UCon_Unk',\n",
              " 'C_Age_0_4',\n",
              " 'C_Age_5_14',\n",
              " 'C_Age_15_24',\n",
              " 'C_Age_25_34',\n",
              " 'C_Age_35_44',\n",
              " 'C_Age_45_54',\n",
              " 'C_Age_55_64',\n",
              " 'C_Age_65_74',\n",
              " 'C_Age_75_84',\n",
              " 'C_Age_85plus',\n",
              " 'C_Age_Unkn',\n",
              " 'C_Age_0',\n",
              " 'C_Age_20',\n",
              " 'C_RaceWh',\n",
              " 'C_RaceBl',\n",
              " 'C_RaceAs',\n",
              " 'C_RaceOth',\n",
              " 'C_RaceUnk',\n",
              " 'C_His',\n",
              " 'C_NonHis',\n",
              " 'C_EthUnk',\n",
              " 'GlobalID',\n",
              " 'C_NEW_PERCT_CHG',\n",
              " 'D_NEW_PERCT_CHG',\n",
              " 'C_NEW_7D_MEAN',\n",
              " 'D_NEW_7D_MEAN',\n",
              " 'C_NEW_7D_PERCT_CHG',\n",
              " 'D_NEW_7D_PERCT_CHG']"
            ]
          },
          "metadata": {},
          "execution_count": 57
        }
      ]
    },
    {
      "cell_type": "code",
      "source": [
        "df['COUNTY'].value_counts()"
      ],
      "metadata": {
        "colab": {
          "base_uri": "https://localhost:8080/"
        },
        "id": "qWt6H6mmM-nz",
        "outputId": "ce5fd8b0-f125-4d9b-d31b-e186c01cb734"
      },
      "execution_count": 58,
      "outputs": [
        {
          "output_type": "execute_result",
          "data": {
            "text/plain": [
              "BALDWIN       566\n",
              "UNION         566\n",
              "COOK          566\n",
              "CARROLL       566\n",
              "EFFINGHAM     566\n",
              "             ... \n",
              "FORSYTH       566\n",
              "GILMER        566\n",
              "GLYNN         566\n",
              "GLASCOCK      566\n",
              "WASHINGTON    566\n",
              "Name: COUNTY, Length: 162, dtype: int64"
            ]
          },
          "metadata": {},
          "execution_count": 58
        }
      ]
    },
    {
      "cell_type": "code",
      "source": [
        "df_counties = df['COUNTY'].value_counts()\n",
        "df_counties.head(5)"
      ],
      "metadata": {
        "colab": {
          "base_uri": "https://localhost:8080/"
        },
        "id": "eA3zD2A6QklR",
        "outputId": "164b0329-3fcd-4090-9ccf-a968098d019d"
      },
      "execution_count": 59,
      "outputs": [
        {
          "output_type": "execute_result",
          "data": {
            "text/plain": [
              "BALDWIN      566\n",
              "UNION        566\n",
              "COOK         566\n",
              "CARROLL      566\n",
              "EFFINGHAM    566\n",
              "Name: COUNTY, dtype: int64"
            ]
          },
          "metadata": {},
          "execution_count": 59
        }
      ]
    },
    {
      "cell_type": "markdown",
      "source": [
        "# Transforming Columns"
      ],
      "metadata": {
        "id": "W2T24tZqRSYI"
      }
    },
    {
      "cell_type": "code",
      "source": [
        "df['DATESTAMP']"
      ],
      "metadata": {
        "colab": {
          "base_uri": "https://localhost:8080/"
        },
        "id": "2gVRjS8hRViN",
        "outputId": "30d30b66-1ec4-4a48-984a-aca072ff1bf2"
      },
      "execution_count": 61,
      "outputs": [
        {
          "output_type": "execute_result",
          "data": {
            "text/plain": [
              "0        2021/04/13 03:59:59+00\n",
              "1        2021/02/04 05:00:00+00\n",
              "2        2021/04/14 03:59:59+00\n",
              "3        2021/02/05 05:00:00+00\n",
              "4        2021/04/15 03:59:59+00\n",
              "                  ...          \n",
              "91687    2021/07/15 03:59:59+00\n",
              "91688    2021/07/16 03:59:59+00\n",
              "91689    2021/07/17 03:59:59+00\n",
              "91690    2021/07/18 03:59:59+00\n",
              "91691    2021/07/19 03:59:59+00\n",
              "Name: DATESTAMP, Length: 91692, dtype: object"
            ]
          },
          "metadata": {},
          "execution_count": 61
        }
      ]
    },
    {
      "cell_type": "code",
      "source": [
        "# we are creating a copy of the existing column, so we keep the original version\n",
        "# we could also override the column if we wanted to, but because we are unsure \n",
        "# where we are going to take the analysis - lets just keep it\n",
        "\n",
        "\n",
        "df['DATESTAMP_MOD'] = df['DATESTAMP']\n",
        "print(df['DATESTAMP_MOD'].head(10))\n",
        "print(df['DATESTAMP_MOD'].dtypes)"
      ],
      "metadata": {
        "colab": {
          "base_uri": "https://localhost:8080/"
        },
        "id": "exyB0qqQRbsj",
        "outputId": "2c236d37-adb6-428a-f398-57f98db02de5"
      },
      "execution_count": 62,
      "outputs": [
        {
          "output_type": "stream",
          "name": "stdout",
          "text": [
            "0    2021/04/13 03:59:59+00\n",
            "1    2021/02/04 05:00:00+00\n",
            "2    2021/04/14 03:59:59+00\n",
            "3    2021/02/05 05:00:00+00\n",
            "4    2021/04/15 03:59:59+00\n",
            "5    2021/02/06 05:00:00+00\n",
            "6    2021/02/07 05:00:00+00\n",
            "7    2021/04/16 03:59:59+00\n",
            "8    2021/04/17 03:59:59+00\n",
            "9    2021/02/08 05:00:00+00\n",
            "Name: DATESTAMP_MOD, dtype: object\n",
            "object\n"
          ]
        }
      ]
    },
    {
      "cell_type": "code",
      "source": [
        "df['DATESTAMP_MOD'] = pd.to_datetime(df['DATESTAMP_MOD'])\n",
        "df['DATESTAMP_MOD'].dtypes"
      ],
      "metadata": {
        "colab": {
          "base_uri": "https://localhost:8080/"
        },
        "id": "7UHdzJQ7SkKB",
        "outputId": "5f718c1f-7767-43ec-f390-0a8e4a1cc7fa"
      },
      "execution_count": 63,
      "outputs": [
        {
          "output_type": "execute_result",
          "data": {
            "text/plain": [
              "datetime64[ns, UTC]"
            ]
          },
          "metadata": {},
          "execution_count": 63
        }
      ]
    },
    {
      "cell_type": "code",
      "source": [
        "df[['DATESTAMP','DATESTAMP_MOD']]"
      ],
      "metadata": {
        "colab": {
          "base_uri": "https://localhost:8080/",
          "height": 419
        },
        "id": "KxAMM1vYSpR8",
        "outputId": "07a15ec9-4f1a-45db-8927-1d1ea873b3b4"
      },
      "execution_count": 64,
      "outputs": [
        {
          "output_type": "execute_result",
          "data": {
            "text/plain": [
              "                    DATESTAMP             DATESTAMP_MOD\n",
              "0      2021/04/13 03:59:59+00 2021-04-13 03:59:59+00:00\n",
              "1      2021/02/04 05:00:00+00 2021-02-04 05:00:00+00:00\n",
              "2      2021/04/14 03:59:59+00 2021-04-14 03:59:59+00:00\n",
              "3      2021/02/05 05:00:00+00 2021-02-05 05:00:00+00:00\n",
              "4      2021/04/15 03:59:59+00 2021-04-15 03:59:59+00:00\n",
              "...                       ...                       ...\n",
              "91687  2021/07/15 03:59:59+00 2021-07-15 03:59:59+00:00\n",
              "91688  2021/07/16 03:59:59+00 2021-07-16 03:59:59+00:00\n",
              "91689  2021/07/17 03:59:59+00 2021-07-17 03:59:59+00:00\n",
              "91690  2021/07/18 03:59:59+00 2021-07-18 03:59:59+00:00\n",
              "91691  2021/07/19 03:59:59+00 2021-07-19 03:59:59+00:00\n",
              "\n",
              "[91692 rows x 2 columns]"
            ],
            "text/html": [
              "\n",
              "  <div id=\"df-06ba3179-9b35-47fd-a9d7-c5e057a0e7cb\">\n",
              "    <div class=\"colab-df-container\">\n",
              "      <div>\n",
              "<style scoped>\n",
              "    .dataframe tbody tr th:only-of-type {\n",
              "        vertical-align: middle;\n",
              "    }\n",
              "\n",
              "    .dataframe tbody tr th {\n",
              "        vertical-align: top;\n",
              "    }\n",
              "\n",
              "    .dataframe thead th {\n",
              "        text-align: right;\n",
              "    }\n",
              "</style>\n",
              "<table border=\"1\" class=\"dataframe\">\n",
              "  <thead>\n",
              "    <tr style=\"text-align: right;\">\n",
              "      <th></th>\n",
              "      <th>DATESTAMP</th>\n",
              "      <th>DATESTAMP_MOD</th>\n",
              "    </tr>\n",
              "  </thead>\n",
              "  <tbody>\n",
              "    <tr>\n",
              "      <th>0</th>\n",
              "      <td>2021/04/13 03:59:59+00</td>\n",
              "      <td>2021-04-13 03:59:59+00:00</td>\n",
              "    </tr>\n",
              "    <tr>\n",
              "      <th>1</th>\n",
              "      <td>2021/02/04 05:00:00+00</td>\n",
              "      <td>2021-02-04 05:00:00+00:00</td>\n",
              "    </tr>\n",
              "    <tr>\n",
              "      <th>2</th>\n",
              "      <td>2021/04/14 03:59:59+00</td>\n",
              "      <td>2021-04-14 03:59:59+00:00</td>\n",
              "    </tr>\n",
              "    <tr>\n",
              "      <th>3</th>\n",
              "      <td>2021/02/05 05:00:00+00</td>\n",
              "      <td>2021-02-05 05:00:00+00:00</td>\n",
              "    </tr>\n",
              "    <tr>\n",
              "      <th>4</th>\n",
              "      <td>2021/04/15 03:59:59+00</td>\n",
              "      <td>2021-04-15 03:59:59+00:00</td>\n",
              "    </tr>\n",
              "    <tr>\n",
              "      <th>...</th>\n",
              "      <td>...</td>\n",
              "      <td>...</td>\n",
              "    </tr>\n",
              "    <tr>\n",
              "      <th>91687</th>\n",
              "      <td>2021/07/15 03:59:59+00</td>\n",
              "      <td>2021-07-15 03:59:59+00:00</td>\n",
              "    </tr>\n",
              "    <tr>\n",
              "      <th>91688</th>\n",
              "      <td>2021/07/16 03:59:59+00</td>\n",
              "      <td>2021-07-16 03:59:59+00:00</td>\n",
              "    </tr>\n",
              "    <tr>\n",
              "      <th>91689</th>\n",
              "      <td>2021/07/17 03:59:59+00</td>\n",
              "      <td>2021-07-17 03:59:59+00:00</td>\n",
              "    </tr>\n",
              "    <tr>\n",
              "      <th>91690</th>\n",
              "      <td>2021/07/18 03:59:59+00</td>\n",
              "      <td>2021-07-18 03:59:59+00:00</td>\n",
              "    </tr>\n",
              "    <tr>\n",
              "      <th>91691</th>\n",
              "      <td>2021/07/19 03:59:59+00</td>\n",
              "      <td>2021-07-19 03:59:59+00:00</td>\n",
              "    </tr>\n",
              "  </tbody>\n",
              "</table>\n",
              "<p>91692 rows × 2 columns</p>\n",
              "</div>\n",
              "      <button class=\"colab-df-convert\" onclick=\"convertToInteractive('df-06ba3179-9b35-47fd-a9d7-c5e057a0e7cb')\"\n",
              "              title=\"Convert this dataframe to an interactive table.\"\n",
              "              style=\"display:none;\">\n",
              "        \n",
              "  <svg xmlns=\"http://www.w3.org/2000/svg\" height=\"24px\"viewBox=\"0 0 24 24\"\n",
              "       width=\"24px\">\n",
              "    <path d=\"M0 0h24v24H0V0z\" fill=\"none\"/>\n",
              "    <path d=\"M18.56 5.44l.94 2.06.94-2.06 2.06-.94-2.06-.94-.94-2.06-.94 2.06-2.06.94zm-11 1L8.5 8.5l.94-2.06 2.06-.94-2.06-.94L8.5 2.5l-.94 2.06-2.06.94zm10 10l.94 2.06.94-2.06 2.06-.94-2.06-.94-.94-2.06-.94 2.06-2.06.94z\"/><path d=\"M17.41 7.96l-1.37-1.37c-.4-.4-.92-.59-1.43-.59-.52 0-1.04.2-1.43.59L10.3 9.45l-7.72 7.72c-.78.78-.78 2.05 0 2.83L4 21.41c.39.39.9.59 1.41.59.51 0 1.02-.2 1.41-.59l7.78-7.78 2.81-2.81c.8-.78.8-2.07 0-2.86zM5.41 20L4 18.59l7.72-7.72 1.47 1.35L5.41 20z\"/>\n",
              "  </svg>\n",
              "      </button>\n",
              "      \n",
              "  <style>\n",
              "    .colab-df-container {\n",
              "      display:flex;\n",
              "      flex-wrap:wrap;\n",
              "      gap: 12px;\n",
              "    }\n",
              "\n",
              "    .colab-df-convert {\n",
              "      background-color: #E8F0FE;\n",
              "      border: none;\n",
              "      border-radius: 50%;\n",
              "      cursor: pointer;\n",
              "      display: none;\n",
              "      fill: #1967D2;\n",
              "      height: 32px;\n",
              "      padding: 0 0 0 0;\n",
              "      width: 32px;\n",
              "    }\n",
              "\n",
              "    .colab-df-convert:hover {\n",
              "      background-color: #E2EBFA;\n",
              "      box-shadow: 0px 1px 2px rgba(60, 64, 67, 0.3), 0px 1px 3px 1px rgba(60, 64, 67, 0.15);\n",
              "      fill: #174EA6;\n",
              "    }\n",
              "\n",
              "    [theme=dark] .colab-df-convert {\n",
              "      background-color: #3B4455;\n",
              "      fill: #D2E3FC;\n",
              "    }\n",
              "\n",
              "    [theme=dark] .colab-df-convert:hover {\n",
              "      background-color: #434B5C;\n",
              "      box-shadow: 0px 1px 3px 1px rgba(0, 0, 0, 0.15);\n",
              "      filter: drop-shadow(0px 1px 2px rgba(0, 0, 0, 0.3));\n",
              "      fill: #FFFFFF;\n",
              "    }\n",
              "  </style>\n",
              "\n",
              "      <script>\n",
              "        const buttonEl =\n",
              "          document.querySelector('#df-06ba3179-9b35-47fd-a9d7-c5e057a0e7cb button.colab-df-convert');\n",
              "        buttonEl.style.display =\n",
              "          google.colab.kernel.accessAllowed ? 'block' : 'none';\n",
              "\n",
              "        async function convertToInteractive(key) {\n",
              "          const element = document.querySelector('#df-06ba3179-9b35-47fd-a9d7-c5e057a0e7cb');\n",
              "          const dataTable =\n",
              "            await google.colab.kernel.invokeFunction('convertToInteractive',\n",
              "                                                     [key], {});\n",
              "          if (!dataTable) return;\n",
              "\n",
              "          const docLinkHtml = 'Like what you see? Visit the ' +\n",
              "            '<a target=\"_blank\" href=https://colab.research.google.com/notebooks/data_table.ipynb>data table notebook</a>'\n",
              "            + ' to learn more about interactive tables.';\n",
              "          element.innerHTML = '';\n",
              "          dataTable['output_type'] = 'display_data';\n",
              "          await google.colab.output.renderOutput(dataTable, element);\n",
              "          const docLink = document.createElement('div');\n",
              "          docLink.innerHTML = docLinkHtml;\n",
              "          element.appendChild(docLink);\n",
              "        }\n",
              "      </script>\n",
              "    </div>\n",
              "  </div>\n",
              "  "
            ]
          },
          "metadata": {},
          "execution_count": 64
        }
      ]
    },
    {
      "cell_type": "code",
      "source": [
        "df['DATESTAMP_MOD_DAY'] = df['DATESTAMP_MOD'].dt.date\n",
        "df['DATESTAMP_MOD_DAY']"
      ],
      "metadata": {
        "colab": {
          "base_uri": "https://localhost:8080/"
        },
        "id": "OPfCcUxbUeuM",
        "outputId": "16b59cf5-33e3-4760-abbd-2c93d1ea3242"
      },
      "execution_count": 65,
      "outputs": [
        {
          "output_type": "execute_result",
          "data": {
            "text/plain": [
              "0        2021-04-13\n",
              "1        2021-02-04\n",
              "2        2021-04-14\n",
              "3        2021-02-05\n",
              "4        2021-04-15\n",
              "            ...    \n",
              "91687    2021-07-15\n",
              "91688    2021-07-16\n",
              "91689    2021-07-17\n",
              "91690    2021-07-18\n",
              "91691    2021-07-19\n",
              "Name: DATESTAMP_MOD_DAY, Length: 91692, dtype: object"
            ]
          },
          "metadata": {},
          "execution_count": 65
        }
      ]
    },
    {
      "cell_type": "code",
      "source": [
        "df['DATESTAMP_MOD_YEAR'] = df['DATESTAMP_MOD'].dt.year\n",
        "df['DATESTAMP_MOD_MONTH'] = df['DATESTAMP_MOD'].dt.month"
      ],
      "metadata": {
        "id": "U7_XlZ5HUoWz"
      },
      "execution_count": 66,
      "outputs": []
    },
    {
      "cell_type": "code",
      "source": [
        "df['DATESTAMP_MOD_YEAR']"
      ],
      "metadata": {
        "colab": {
          "base_uri": "https://localhost:8080/"
        },
        "id": "oTa9vpwqVH31",
        "outputId": "9c2ae8d5-b882-4a89-ae29-f4bf01d03b32"
      },
      "execution_count": 67,
      "outputs": [
        {
          "output_type": "execute_result",
          "data": {
            "text/plain": [
              "0        2021\n",
              "1        2021\n",
              "2        2021\n",
              "3        2021\n",
              "4        2021\n",
              "         ... \n",
              "91687    2021\n",
              "91688    2021\n",
              "91689    2021\n",
              "91690    2021\n",
              "91691    2021\n",
              "Name: DATESTAMP_MOD_YEAR, Length: 91692, dtype: int64"
            ]
          },
          "metadata": {},
          "execution_count": 67
        }
      ]
    },
    {
      "cell_type": "code",
      "source": [
        "df['DATESTAMP_MOD_MONTH']"
      ],
      "metadata": {
        "colab": {
          "base_uri": "https://localhost:8080/"
        },
        "id": "mGcIfvgilGsJ",
        "outputId": "10170ba8-2b5e-4a0d-e2fc-c729c59c3d15"
      },
      "execution_count": 68,
      "outputs": [
        {
          "output_type": "execute_result",
          "data": {
            "text/plain": [
              "0        4\n",
              "1        2\n",
              "2        4\n",
              "3        2\n",
              "4        4\n",
              "        ..\n",
              "91687    7\n",
              "91688    7\n",
              "91689    7\n",
              "91690    7\n",
              "91691    7\n",
              "Name: DATESTAMP_MOD_MONTH, Length: 91692, dtype: int64"
            ]
          },
          "metadata": {},
          "execution_count": 68
        }
      ]
    },
    {
      "cell_type": "code",
      "source": [
        "df['DATESTAMP_MOD_MONTH_YEAR'] = df['DATESTAMP_MOD'].dt.to_period('M')\n",
        "df['DATESTAMP_MOD_MONTH_YEAR'].sort_values()"
      ],
      "metadata": {
        "colab": {
          "base_uri": "https://localhost:8080/"
        },
        "id": "J4YaLDjmlOYa",
        "outputId": "7f3868a3-50a9-4488-eeeb-df3db627195b"
      },
      "execution_count": 69,
      "outputs": [
        {
          "output_type": "stream",
          "name": "stderr",
          "text": [
            "/usr/local/lib/python3.7/dist-packages/pandas/core/arrays/datetimes.py:1146: UserWarning: Converting to PeriodArray/Index representation will drop timezone information.\n",
            "  UserWarning,\n"
          ]
        },
        {
          "output_type": "execute_result",
          "data": {
            "text/plain": [
              "15942    2020-01\n",
              "26961    2020-01\n",
              "26960    2020-01\n",
              "26959    2020-01\n",
              "26958    2020-01\n",
              "          ...   \n",
              "32662    2021-07\n",
              "32663    2021-07\n",
              "32664    2021-07\n",
              "32184    2021-07\n",
              "91691    2021-07\n",
              "Name: DATESTAMP_MOD_MONTH_YEAR, Length: 91692, dtype: period[M]"
            ]
          },
          "metadata": {},
          "execution_count": 69
        }
      ]
    },
    {
      "cell_type": "code",
      "source": [
        "df['DATESTAMP_MOD_WEEk'] = df['DATESTAMP_MOD'].dt.week\n",
        "df['DATESTAMP_MOD_WEEk']"
      ],
      "metadata": {
        "colab": {
          "base_uri": "https://localhost:8080/"
        },
        "id": "irku7wwIl0hx",
        "outputId": "7abe4dec-99e7-46e2-b040-73759737edf6"
      },
      "execution_count": 70,
      "outputs": [
        {
          "output_type": "stream",
          "name": "stderr",
          "text": [
            "/usr/local/lib/python3.7/dist-packages/ipykernel_launcher.py:1: FutureWarning: Series.dt.weekofyear and Series.dt.week have been deprecated.  Please use Series.dt.isocalendar().week instead.\n",
            "  \"\"\"Entry point for launching an IPython kernel.\n"
          ]
        },
        {
          "output_type": "execute_result",
          "data": {
            "text/plain": [
              "0        15\n",
              "1         5\n",
              "2        15\n",
              "3         5\n",
              "4        15\n",
              "         ..\n",
              "91687    28\n",
              "91688    28\n",
              "91689    28\n",
              "91690    28\n",
              "91691    29\n",
              "Name: DATESTAMP_MOD_WEEk, Length: 91692, dtype: int64"
            ]
          },
          "metadata": {},
          "execution_count": 70
        }
      ]
    },
    {
      "cell_type": "code",
      "source": [
        "df['DATESTAMP_MOD_QUARTER'] = df['DATESTAMP_MOD'].dt.to_period('Q')\n",
        "df['DATESTAMP_MOD_QUARTER'].sort_values()"
      ],
      "metadata": {
        "colab": {
          "base_uri": "https://localhost:8080/"
        },
        "id": "EcEfWK9RmKCY",
        "outputId": "ab2888d8-015a-4bee-c2dd-da822793b56a"
      },
      "execution_count": 71,
      "outputs": [
        {
          "output_type": "execute_result",
          "data": {
            "text/plain": [
              "76343    2020Q1\n",
              "46394    2020Q1\n",
              "46393    2020Q1\n",
              "46392    2020Q1\n",
              "46391    2020Q1\n",
              "          ...  \n",
              "32834    2021Q3\n",
              "32835    2021Q3\n",
              "32836    2021Q3\n",
              "33566    2021Q3\n",
              "91691    2021Q3\n",
              "Name: DATESTAMP_MOD_QUARTER, Length: 91692, dtype: period[Q-DEC]"
            ]
          },
          "metadata": {},
          "execution_count": 71
        }
      ]
    },
    {
      "cell_type": "code",
      "source": [
        "df['DATESTAMP_MOD_DAY_STRING'] = df['DATESTAMP_MOD_DAY'].astype(str)\n",
        "df['DATESTAMP_MOD_WEEk_STRING'] = df['DATESTAMP_MOD_WEEk'].astype(str)\n",
        "df['DATETIME_STRING'] = df['DATESTAMP_MOD_MONTH_YEAR'].astype(str)"
      ],
      "metadata": {
        "id": "lV6IH0QCmtFU"
      },
      "execution_count": 110,
      "outputs": []
    },
    {
      "cell_type": "code",
      "source": [
        "df"
      ],
      "metadata": {
        "id": "3SlmOUw8nZA8"
      },
      "execution_count": null,
      "outputs": []
    },
    {
      "cell_type": "markdown",
      "source": [
        "## Getting the counties required for our analysis"
      ],
      "metadata": {
        "id": "BWyQSL1V63iT"
      }
    },
    {
      "cell_type": "markdown",
      "source": [
        "we know the counties we want to analyze our:\n",
        "\n",
        "\n",
        "*   Cobb\n",
        "*   Deklab\n",
        "*   Fulton\n",
        "*   Gwinnett\n",
        "*   Hall\n",
        "\n",
        "\n",
        "\n",
        "\n"
      ],
      "metadata": {
        "id": "aHZ4_DsG7GH3"
      }
    },
    {
      "cell_type": "code",
      "source": [
        "df['COUNTY']"
      ],
      "metadata": {
        "colab": {
          "base_uri": "https://localhost:8080/"
        },
        "id": "BI7jFF_U7jx9",
        "outputId": "e5ef6bfb-8d2d-44fb-81de-7a1eebc435f4"
      },
      "execution_count": 111,
      "outputs": [
        {
          "output_type": "execute_result",
          "data": {
            "text/plain": [
              "0        BALDWIN\n",
              "1        UNKNOWN\n",
              "2        BALDWIN\n",
              "3        UNKNOWN\n",
              "4        BALDWIN\n",
              "          ...   \n",
              "91687      WAYNE\n",
              "91688      WAYNE\n",
              "91689      WAYNE\n",
              "91690      WAYNE\n",
              "91691      WAYNE\n",
              "Name: COUNTY, Length: 91692, dtype: object"
            ]
          },
          "metadata": {},
          "execution_count": 111
        }
      ]
    },
    {
      "cell_type": "code",
      "source": [
        "countList = ['COBB','DEKALB','FULTON','GWINNETT','HALL']\n",
        "countList"
      ],
      "metadata": {
        "colab": {
          "base_uri": "https://localhost:8080/"
        },
        "id": "jVAGwMDd7nMg",
        "outputId": "21e06e9c-101e-403c-ac4b-5c7aac2378eb"
      },
      "execution_count": 112,
      "outputs": [
        {
          "output_type": "execute_result",
          "data": {
            "text/plain": [
              "['COBB', 'DEKALB', 'FULTON', 'GWINNETT', 'HALL']"
            ]
          },
          "metadata": {},
          "execution_count": 112
        }
      ]
    },
    {
      "cell_type": "code",
      "source": [
        "selectCounties = df[df['COUNTY'].isin(countList)]\n",
        "len(selectCounties)"
      ],
      "metadata": {
        "colab": {
          "base_uri": "https://localhost:8080/"
        },
        "id": "hVwN6BOR7zvY",
        "outputId": "622224b8-6d81-4993-9e9e-1bf66a965b90"
      },
      "execution_count": 113,
      "outputs": [
        {
          "output_type": "execute_result",
          "data": {
            "text/plain": [
              "2830"
            ]
          },
          "metadata": {},
          "execution_count": 113
        }
      ]
    },
    {
      "cell_type": "code",
      "source": [
        "selectCountytime_aprilmay2020.head(20)"
      ],
      "metadata": {
        "id": "fBpwlO1fCFS4"
      },
      "execution_count": null,
      "outputs": []
    },
    {
      "cell_type": "markdown",
      "source": [
        "## Getting the specific date/time frame we want"
      ],
      "metadata": {
        "id": "v-iSzjrK84en"
      }
    },
    {
      "cell_type": "code",
      "source": [
        "selectCountytime = selectCounties"
      ],
      "metadata": {
        "id": "s20zy57g8kcY"
      },
      "execution_count": 115,
      "outputs": []
    },
    {
      "cell_type": "code",
      "source": [
        "selectCountytime['DATESTAMP_MOD_MONTH_YEAR']"
      ],
      "metadata": {
        "colab": {
          "base_uri": "https://localhost:8080/"
        },
        "id": "YCRE7xMh9GU-",
        "outputId": "c4655668-869b-4909-e816-0b209e216e33"
      },
      "execution_count": 116,
      "outputs": [
        {
          "output_type": "execute_result",
          "data": {
            "text/plain": [
              "6056     2020-08\n",
              "6414     2020-08\n",
              "6417     2020-09\n",
              "6422     2020-09\n",
              "6823     2020-09\n",
              "          ...   \n",
              "79995    2020-05\n",
              "79996    2020-05\n",
              "79997    2020-05\n",
              "79998    2020-05\n",
              "79999    2020-05\n",
              "Name: DATESTAMP_MOD_MONTH_YEAR, Length: 2830, dtype: period[M]"
            ]
          },
          "metadata": {},
          "execution_count": 116
        }
      ]
    },
    {
      "cell_type": "code",
      "source": [
        "selectCountytime_april2020 = selectCountytime[selectCountytime['DATESTAMP_MOD_MONTH_YEAR'] == '2020-04']\n",
        "len(selectCountytime_april2020)"
      ],
      "metadata": {
        "colab": {
          "base_uri": "https://localhost:8080/"
        },
        "id": "qJtLHIgx92IE",
        "outputId": "b2d50522-e5aa-4762-c034-c7fbedf62681"
      },
      "execution_count": 117,
      "outputs": [
        {
          "output_type": "execute_result",
          "data": {
            "text/plain": [
              "150"
            ]
          },
          "metadata": {},
          "execution_count": 117
        }
      ]
    },
    {
      "cell_type": "code",
      "source": [
        "selectCountytime_aprilmay2020 = selectCountytime[(selectCountytime['DATESTAMP_MOD_MONTH_YEAR'] == '2020-05') | (selectCountytime['DATESTAMP_MOD_MONTH_YEAR'] == '2020-04')]\n",
        "len(selectCountytime_aprilmay2020)"
      ],
      "metadata": {
        "colab": {
          "base_uri": "https://localhost:8080/"
        },
        "id": "zaWQvlyj-c2h",
        "outputId": "420b0227-fd8c-48d8-a497-a4c8f4781594"
      },
      "execution_count": 118,
      "outputs": [
        {
          "output_type": "execute_result",
          "data": {
            "text/plain": [
              "305"
            ]
          },
          "metadata": {},
          "execution_count": 118
        }
      ]
    },
    {
      "cell_type": "markdown",
      "source": [
        "## Creating the final dateframe / specific columns-features-attributes that we care about "
      ],
      "metadata": {
        "id": "KKQmbq1H_rEs"
      }
    },
    {
      "cell_type": "code",
      "source": [
        "finalDF = selectCountytime_aprilmay2020[[\n",
        "      'COUNTY',\n",
        "      'DATESTAMP_MOD',\n",
        "      'DATESTAMP_MOD_DAY',\n",
        "      'DATESTAMP_MOD_DAY_STRING',\n",
        "      'DATETIME_STRING',\n",
        "      'DATESTAMP_MOD_MONTH_YEAR',\n",
        "      'C_New', # cases - new \n",
        "      'C_Cum', # cases - total\n",
        "      'H_New', # hospitalizations - new\n",
        "      'H_Cum', # hospitalizations - total\n",
        "      'D_New', # death - new\n",
        "      'D_Cum'  # death - total\n",
        "\n",
        "]]"
      ],
      "metadata": {
        "id": "q6NHNl3X_1Gp"
      },
      "execution_count": 126,
      "outputs": []
    },
    {
      "cell_type": "code",
      "source": [
        "finalDF"
      ],
      "metadata": {
        "id": "Tw8NYtNbC7Qx"
      },
      "execution_count": null,
      "outputs": []
    },
    {
      "cell_type": "markdown",
      "source": [
        "# Looking at total Covid cases by month"
      ],
      "metadata": {
        "id": "iHsvpJ3jEIbb"
      }
    },
    {
      "cell_type": "code",
      "source": [
        "finalDF_dropdups = finalDF.drop_duplicates(subset=['COUNTY','DATETIME_STRING'], keep ='last')\n",
        "finalDF_dropdups"
      ],
      "metadata": {
        "id": "BUssKsXyELJ7"
      },
      "execution_count": null,
      "outputs": []
    },
    {
      "cell_type": "code",
      "source": [
        "pd.pivot_table(finalDF_dropdups, values='C_Cum', index=['COUNTY'],\n",
        "               columns=['DATESTAMP_MOD_MONTH_YEAR'], aggfunc=np.sum)"
      ],
      "metadata": {
        "id": "hgMhOYpFEueL"
      },
      "execution_count": null,
      "outputs": []
    },
    {
      "cell_type": "code",
      "source": [
        "vis1 = sns.barplot(x='DATESTAMP_MOD_MONTH_YEAR', y = 'C_Cum', data=finalDF_dropdups)"
      ],
      "metadata": {
        "id": "k9BkfsdxGuZB"
      },
      "execution_count": null,
      "outputs": []
    },
    {
      "cell_type": "code",
      "source": [
        "vis2 = sns.barplot(x='DATESTAMP_MOD_MONTH_YEAR', y = 'C_Cum', hue ='COUNTY', data=finalDF_dropdups)"
      ],
      "metadata": {
        "id": "Zq4mFFI8HL8d"
      },
      "execution_count": null,
      "outputs": []
    },
    {
      "cell_type": "code",
      "source": [
        "plotly1 = px.bar(finalDF_dropdups, x= 'DATETIME_STRING', y ='C_Cum', color = 'COUNTY', barmode = 'group')\n",
        "plotly1.show()"
      ],
      "metadata": {
        "id": "iYqY8yc6Hm1K"
      },
      "execution_count": null,
      "outputs": []
    },
    {
      "cell_type": "code",
      "source": [
        "plotly2 = px.bar(finalDF_dropdups, x= 'DATETIME_STRING', y ='C_Cum', color = 'COUNTY', barmode = 'overlay')\n",
        "plotly2.show()"
      ],
      "metadata": {
        "id": "hMrNaTL6Ib_L"
      },
      "execution_count": null,
      "outputs": []
    },
    {
      "cell_type": "markdown",
      "source": [
        "## Looking at the total covid cases by DAY"
      ],
      "metadata": {
        "id": "pWZIRw_RJCsl"
      }
    },
    {
      "cell_type": "code",
      "source": [
        "daily = finalDF\n",
        "daily\n",
        "len(daily)"
      ],
      "metadata": {
        "colab": {
          "base_uri": "https://localhost:8080/"
        },
        "id": "UnkXCNZPJGzy",
        "outputId": "c8014ef0-24cb-4c52-c2e0-28b969fe05fc"
      },
      "execution_count": 146,
      "outputs": [
        {
          "output_type": "execute_result",
          "data": {
            "text/plain": [
              "305"
            ]
          },
          "metadata": {},
          "execution_count": 146
        }
      ]
    },
    {
      "cell_type": "code",
      "source": [
        "pd.pivot_table(daily, values='C_Cum', index = ['COUNTY'],\n",
        "               columns = ['DATESTAMP_MOD_DAY'], aggfunc=np.sum)"
      ],
      "metadata": {
        "colab": {
          "base_uri": "https://localhost:8080/",
          "height": 345
        },
        "id": "MOkTH1vYJL4C",
        "outputId": "b5212731-1d65-45c9-81ec-d1e7eb2b5b82"
      },
      "execution_count": 150,
      "outputs": [
        {
          "output_type": "execute_result",
          "data": {
            "text/plain": [
              "DATESTAMP_MOD_DAY  2020-04-01  2020-04-02  2020-04-03  2020-04-04  2020-04-05  \\\n",
              "COUNTY                                                                          \n",
              "COBB                      867         893         921         935         956   \n",
              "DEKALB                    937         987        1038        1069        1099   \n",
              "FULTON                   1499        1549        1617        1655        1685   \n",
              "GWINNETT                  614         657         702         734         766   \n",
              "HALL                      257         300         336         359         392   \n",
              "\n",
              "DATESTAMP_MOD_DAY  2020-04-06  2020-04-07  2020-04-08  2020-04-09  2020-04-10  \\\n",
              "COUNTY                                                                          \n",
              "COBB                      999        1026        1073        1116        1160   \n",
              "DEKALB                   1159        1213        1252        1317        1371   \n",
              "FULTON                   1747        1824        1893        1952        2007   \n",
              "GWINNETT                  811         858         905         952        1002   \n",
              "HALL                      453         502         566         628         686   \n",
              "\n",
              "DATESTAMP_MOD_DAY  ...  2020-05-22  2020-05-23  2020-05-24  2020-05-25  \\\n",
              "COUNTY             ...                                                   \n",
              "COBB               ...        3091        3131        3147        3178   \n",
              "DEKALB             ...        3858        3891        3924        3959   \n",
              "FULTON             ...        4276        4310        4336        4365   \n",
              "GWINNETT           ...        3781        3864        3928        3985   \n",
              "HALL               ...        2579        2594        2603        2624   \n",
              "\n",
              "DATESTAMP_MOD_DAY  2020-05-26  2020-05-27  2020-05-28  2020-05-29  2020-05-30  \\\n",
              "COUNTY                                                                          \n",
              "COBB                     3222        3259        3291        3333        3365   \n",
              "DEKALB                   4025        4098        4153        4209        4240   \n",
              "FULTON                   4437        4510        4558        4614        4637   \n",
              "GWINNETT                 4101        4216        4304        4410        4503   \n",
              "HALL                     2634        2653        2668        2682        2707   \n",
              "\n",
              "DATESTAMP_MOD_DAY  2020-05-31  \n",
              "COUNTY                         \n",
              "COBB                     3386  \n",
              "DEKALB                   4271  \n",
              "FULTON                   4657  \n",
              "GWINNETT                 4544  \n",
              "HALL                     2713  \n",
              "\n",
              "[5 rows x 61 columns]"
            ],
            "text/html": [
              "\n",
              "  <div id=\"df-e4e978ba-d9af-4341-aa67-2035e52b36ab\">\n",
              "    <div class=\"colab-df-container\">\n",
              "      <div>\n",
              "<style scoped>\n",
              "    .dataframe tbody tr th:only-of-type {\n",
              "        vertical-align: middle;\n",
              "    }\n",
              "\n",
              "    .dataframe tbody tr th {\n",
              "        vertical-align: top;\n",
              "    }\n",
              "\n",
              "    .dataframe thead th {\n",
              "        text-align: right;\n",
              "    }\n",
              "</style>\n",
              "<table border=\"1\" class=\"dataframe\">\n",
              "  <thead>\n",
              "    <tr style=\"text-align: right;\">\n",
              "      <th>DATESTAMP_MOD_DAY</th>\n",
              "      <th>2020-04-01</th>\n",
              "      <th>2020-04-02</th>\n",
              "      <th>2020-04-03</th>\n",
              "      <th>2020-04-04</th>\n",
              "      <th>2020-04-05</th>\n",
              "      <th>2020-04-06</th>\n",
              "      <th>2020-04-07</th>\n",
              "      <th>2020-04-08</th>\n",
              "      <th>2020-04-09</th>\n",
              "      <th>2020-04-10</th>\n",
              "      <th>...</th>\n",
              "      <th>2020-05-22</th>\n",
              "      <th>2020-05-23</th>\n",
              "      <th>2020-05-24</th>\n",
              "      <th>2020-05-25</th>\n",
              "      <th>2020-05-26</th>\n",
              "      <th>2020-05-27</th>\n",
              "      <th>2020-05-28</th>\n",
              "      <th>2020-05-29</th>\n",
              "      <th>2020-05-30</th>\n",
              "      <th>2020-05-31</th>\n",
              "    </tr>\n",
              "    <tr>\n",
              "      <th>COUNTY</th>\n",
              "      <th></th>\n",
              "      <th></th>\n",
              "      <th></th>\n",
              "      <th></th>\n",
              "      <th></th>\n",
              "      <th></th>\n",
              "      <th></th>\n",
              "      <th></th>\n",
              "      <th></th>\n",
              "      <th></th>\n",
              "      <th></th>\n",
              "      <th></th>\n",
              "      <th></th>\n",
              "      <th></th>\n",
              "      <th></th>\n",
              "      <th></th>\n",
              "      <th></th>\n",
              "      <th></th>\n",
              "      <th></th>\n",
              "      <th></th>\n",
              "      <th></th>\n",
              "    </tr>\n",
              "  </thead>\n",
              "  <tbody>\n",
              "    <tr>\n",
              "      <th>COBB</th>\n",
              "      <td>867</td>\n",
              "      <td>893</td>\n",
              "      <td>921</td>\n",
              "      <td>935</td>\n",
              "      <td>956</td>\n",
              "      <td>999</td>\n",
              "      <td>1026</td>\n",
              "      <td>1073</td>\n",
              "      <td>1116</td>\n",
              "      <td>1160</td>\n",
              "      <td>...</td>\n",
              "      <td>3091</td>\n",
              "      <td>3131</td>\n",
              "      <td>3147</td>\n",
              "      <td>3178</td>\n",
              "      <td>3222</td>\n",
              "      <td>3259</td>\n",
              "      <td>3291</td>\n",
              "      <td>3333</td>\n",
              "      <td>3365</td>\n",
              "      <td>3386</td>\n",
              "    </tr>\n",
              "    <tr>\n",
              "      <th>DEKALB</th>\n",
              "      <td>937</td>\n",
              "      <td>987</td>\n",
              "      <td>1038</td>\n",
              "      <td>1069</td>\n",
              "      <td>1099</td>\n",
              "      <td>1159</td>\n",
              "      <td>1213</td>\n",
              "      <td>1252</td>\n",
              "      <td>1317</td>\n",
              "      <td>1371</td>\n",
              "      <td>...</td>\n",
              "      <td>3858</td>\n",
              "      <td>3891</td>\n",
              "      <td>3924</td>\n",
              "      <td>3959</td>\n",
              "      <td>4025</td>\n",
              "      <td>4098</td>\n",
              "      <td>4153</td>\n",
              "      <td>4209</td>\n",
              "      <td>4240</td>\n",
              "      <td>4271</td>\n",
              "    </tr>\n",
              "    <tr>\n",
              "      <th>FULTON</th>\n",
              "      <td>1499</td>\n",
              "      <td>1549</td>\n",
              "      <td>1617</td>\n",
              "      <td>1655</td>\n",
              "      <td>1685</td>\n",
              "      <td>1747</td>\n",
              "      <td>1824</td>\n",
              "      <td>1893</td>\n",
              "      <td>1952</td>\n",
              "      <td>2007</td>\n",
              "      <td>...</td>\n",
              "      <td>4276</td>\n",
              "      <td>4310</td>\n",
              "      <td>4336</td>\n",
              "      <td>4365</td>\n",
              "      <td>4437</td>\n",
              "      <td>4510</td>\n",
              "      <td>4558</td>\n",
              "      <td>4614</td>\n",
              "      <td>4637</td>\n",
              "      <td>4657</td>\n",
              "    </tr>\n",
              "    <tr>\n",
              "      <th>GWINNETT</th>\n",
              "      <td>614</td>\n",
              "      <td>657</td>\n",
              "      <td>702</td>\n",
              "      <td>734</td>\n",
              "      <td>766</td>\n",
              "      <td>811</td>\n",
              "      <td>858</td>\n",
              "      <td>905</td>\n",
              "      <td>952</td>\n",
              "      <td>1002</td>\n",
              "      <td>...</td>\n",
              "      <td>3781</td>\n",
              "      <td>3864</td>\n",
              "      <td>3928</td>\n",
              "      <td>3985</td>\n",
              "      <td>4101</td>\n",
              "      <td>4216</td>\n",
              "      <td>4304</td>\n",
              "      <td>4410</td>\n",
              "      <td>4503</td>\n",
              "      <td>4544</td>\n",
              "    </tr>\n",
              "    <tr>\n",
              "      <th>HALL</th>\n",
              "      <td>257</td>\n",
              "      <td>300</td>\n",
              "      <td>336</td>\n",
              "      <td>359</td>\n",
              "      <td>392</td>\n",
              "      <td>453</td>\n",
              "      <td>502</td>\n",
              "      <td>566</td>\n",
              "      <td>628</td>\n",
              "      <td>686</td>\n",
              "      <td>...</td>\n",
              "      <td>2579</td>\n",
              "      <td>2594</td>\n",
              "      <td>2603</td>\n",
              "      <td>2624</td>\n",
              "      <td>2634</td>\n",
              "      <td>2653</td>\n",
              "      <td>2668</td>\n",
              "      <td>2682</td>\n",
              "      <td>2707</td>\n",
              "      <td>2713</td>\n",
              "    </tr>\n",
              "  </tbody>\n",
              "</table>\n",
              "<p>5 rows × 61 columns</p>\n",
              "</div>\n",
              "      <button class=\"colab-df-convert\" onclick=\"convertToInteractive('df-e4e978ba-d9af-4341-aa67-2035e52b36ab')\"\n",
              "              title=\"Convert this dataframe to an interactive table.\"\n",
              "              style=\"display:none;\">\n",
              "        \n",
              "  <svg xmlns=\"http://www.w3.org/2000/svg\" height=\"24px\"viewBox=\"0 0 24 24\"\n",
              "       width=\"24px\">\n",
              "    <path d=\"M0 0h24v24H0V0z\" fill=\"none\"/>\n",
              "    <path d=\"M18.56 5.44l.94 2.06.94-2.06 2.06-.94-2.06-.94-.94-2.06-.94 2.06-2.06.94zm-11 1L8.5 8.5l.94-2.06 2.06-.94-2.06-.94L8.5 2.5l-.94 2.06-2.06.94zm10 10l.94 2.06.94-2.06 2.06-.94-2.06-.94-.94-2.06-.94 2.06-2.06.94z\"/><path d=\"M17.41 7.96l-1.37-1.37c-.4-.4-.92-.59-1.43-.59-.52 0-1.04.2-1.43.59L10.3 9.45l-7.72 7.72c-.78.78-.78 2.05 0 2.83L4 21.41c.39.39.9.59 1.41.59.51 0 1.02-.2 1.41-.59l7.78-7.78 2.81-2.81c.8-.78.8-2.07 0-2.86zM5.41 20L4 18.59l7.72-7.72 1.47 1.35L5.41 20z\"/>\n",
              "  </svg>\n",
              "      </button>\n",
              "      \n",
              "  <style>\n",
              "    .colab-df-container {\n",
              "      display:flex;\n",
              "      flex-wrap:wrap;\n",
              "      gap: 12px;\n",
              "    }\n",
              "\n",
              "    .colab-df-convert {\n",
              "      background-color: #E8F0FE;\n",
              "      border: none;\n",
              "      border-radius: 50%;\n",
              "      cursor: pointer;\n",
              "      display: none;\n",
              "      fill: #1967D2;\n",
              "      height: 32px;\n",
              "      padding: 0 0 0 0;\n",
              "      width: 32px;\n",
              "    }\n",
              "\n",
              "    .colab-df-convert:hover {\n",
              "      background-color: #E2EBFA;\n",
              "      box-shadow: 0px 1px 2px rgba(60, 64, 67, 0.3), 0px 1px 3px 1px rgba(60, 64, 67, 0.15);\n",
              "      fill: #174EA6;\n",
              "    }\n",
              "\n",
              "    [theme=dark] .colab-df-convert {\n",
              "      background-color: #3B4455;\n",
              "      fill: #D2E3FC;\n",
              "    }\n",
              "\n",
              "    [theme=dark] .colab-df-convert:hover {\n",
              "      background-color: #434B5C;\n",
              "      box-shadow: 0px 1px 3px 1px rgba(0, 0, 0, 0.15);\n",
              "      filter: drop-shadow(0px 1px 2px rgba(0, 0, 0, 0.3));\n",
              "      fill: #FFFFFF;\n",
              "    }\n",
              "  </style>\n",
              "\n",
              "      <script>\n",
              "        const buttonEl =\n",
              "          document.querySelector('#df-e4e978ba-d9af-4341-aa67-2035e52b36ab button.colab-df-convert');\n",
              "        buttonEl.style.display =\n",
              "          google.colab.kernel.accessAllowed ? 'block' : 'none';\n",
              "\n",
              "        async function convertToInteractive(key) {\n",
              "          const element = document.querySelector('#df-e4e978ba-d9af-4341-aa67-2035e52b36ab');\n",
              "          const dataTable =\n",
              "            await google.colab.kernel.invokeFunction('convertToInteractive',\n",
              "                                                     [key], {});\n",
              "          if (!dataTable) return;\n",
              "\n",
              "          const docLinkHtml = 'Like what you see? Visit the ' +\n",
              "            '<a target=\"_blank\" href=https://colab.research.google.com/notebooks/data_table.ipynb>data table notebook</a>'\n",
              "            + ' to learn more about interactive tables.';\n",
              "          element.innerHTML = '';\n",
              "          dataTable['output_type'] = 'display_data';\n",
              "          await google.colab.output.renderOutput(dataTable, element);\n",
              "          const docLink = document.createElement('div');\n",
              "          docLink.innerHTML = docLinkHtml;\n",
              "          element.appendChild(docLink);\n",
              "        }\n",
              "      </script>\n",
              "    </div>\n",
              "  </div>\n",
              "  "
            ]
          },
          "metadata": {},
          "execution_count": 150
        }
      ]
    },
    {
      "cell_type": "code",
      "source": [],
      "metadata": {
        "id": "9xO3SciuJ5Dl"
      },
      "execution_count": null,
      "outputs": []
    }
  ]
}